{
  "nbformat": 4,
  "nbformat_minor": 0,
  "metadata": {
    "colab": {
      "name": "Knight's _Tour.ipynb",
      "provenance": [],
      "authorship_tag": "ABX9TyMhkjgez9MnHf6BjAUN/OI2",
      "include_colab_link": true
    },
    "kernelspec": {
      "name": "python3",
      "display_name": "Python 3"
    },
    "language_info": {
      "name": "python"
    }
  },
  "cells": [
    {
      "cell_type": "markdown",
      "metadata": {
        "id": "view-in-github",
        "colab_type": "text"
      },
      "source": [
        "<a href=\"https://colab.research.google.com/github/tandat-1305/CTDL-GT/blob/main/Gi%E1%BA%A3i%20thu%E1%BA%ADt%20%C4%91%E1%BB%87%20quy/Knight's__Tour.ipynb\" target=\"_parent\"><img src=\"https://colab.research.google.com/assets/colab-badge.svg\" alt=\"Open In Colab\"/></a>"
      ]
    },
    {
      "cell_type": "code",
      "metadata": {
        "colab": {
          "base_uri": "https://localhost:8080/"
        },
        "id": "MHIvc_ebg5dW",
        "outputId": "ac305156-dfaf-496c-f64d-84dda5997fd2"
      },
      "source": [
        "import numpy as np\n",
        "\n",
        "move_x = [2, 1, -1, -2, -2, -1, 1, 2]\n",
        "move_y = [1, 2, 2, 1, -1, -2, -2, -1]\n",
        "\n",
        "def validateMove(bo, row, col):\n",
        "    if row < 8 and row >= 0 and col < 8 and col >= 0 and bo[row, col] == 0:\n",
        "        return True\n",
        "\n",
        "def solve (bo, row, col, n, counter):\n",
        "    \n",
        "    for i in range(8):\n",
        "        if counter >= 65:\n",
        "            return True\n",
        "        new_x = row + move_x[i]\n",
        "        new_y = col + move_y[i]\n",
        "        if validateMove(bo, new_x, new_y):\n",
        "            bo[new_x,new_y] = counter\n",
        "            if solve(bo,new_x, new_y, n, counter+1):\n",
        "                return True\n",
        "            bo[new_x,new_y] = 0\n",
        "    return False\n",
        "\n",
        "board = np.zeros((8, 8))\n",
        "\n",
        "board[3,2] = 1\n",
        "solve(board,3,2,8,2)\n",
        "print(board.sum())\n",
        "print(board)"
      ],
      "execution_count": 1,
      "outputs": [
        {
          "output_type": "stream",
          "text": [
            "2080.0\n",
            "[[38. 53. 30. 57. 14. 63. 28.  7.]\n",
            " [31. 58. 39. 62. 29.  8. 13. 64.]\n",
            " [52. 37. 54. 25. 56. 15.  6. 27.]\n",
            " [59. 32.  1. 40. 61. 26.  9. 12.]\n",
            " [36. 51. 60. 55. 24. 11. 16.  5.]\n",
            " [45. 48. 33.  2. 41. 18. 21. 10.]\n",
            " [50. 35. 46. 43. 20. 23.  4. 17.]\n",
            " [47. 44. 49. 34.  3. 42. 19. 22.]]\n"
          ],
          "name": "stdout"
        }
      ]
    }
  ]
}